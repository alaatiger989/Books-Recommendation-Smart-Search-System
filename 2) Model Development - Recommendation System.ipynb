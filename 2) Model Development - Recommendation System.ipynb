{
 "cells": [
  {
   "cell_type": "markdown",
   "id": "3730aaa7",
   "metadata": {},
   "source": [
    "# Importing Packages :"
   ]
  },
  {
   "cell_type": "code",
   "execution_count": 1,
   "id": "24755a50",
   "metadata": {},
   "outputs": [],
   "source": [
    "import pandas as pd\n",
    "from sklearn.feature_extraction.text import TfidfVectorizer\n",
    "from sklearn.metrics.pairwise import cosine_similarity"
   ]
  },
  {
   "cell_type": "markdown",
   "id": "ad5750cd",
   "metadata": {},
   "source": [
    "# Reading cleaned Dataset :"
   ]
  },
  {
   "cell_type": "code",
   "execution_count": 3,
   "id": "14325463",
   "metadata": {},
   "outputs": [],
   "source": [
    "df = pd.read_csv('cleaned_dataset.csv')"
   ]
  },
  {
   "cell_type": "code",
   "execution_count": 4,
   "id": "eea36e1f",
   "metadata": {},
   "outputs": [],
   "source": [
    "df.drop(\"Unnamed: 0\" , inplace = True , axis = 1)"
   ]
  },
  {
   "cell_type": "code",
   "execution_count": 5,
   "id": "20ad49d8",
   "metadata": {},
   "outputs": [
    {
     "data": {
      "text/plain": [
       "(6810, 30338)"
      ]
     },
     "execution_count": 5,
     "metadata": {},
     "output_type": "execute_result"
    }
   ],
   "source": [
    "tfidf = TfidfVectorizer(stop_words=\"english\")\n",
    "tfidf_matrix = tfidf.fit_transform(df['description'])\n",
    "tfidf_matrix.shape"
   ]
  },
  {
   "cell_type": "code",
   "execution_count": 7,
   "id": "9a0c031c",
   "metadata": {},
   "outputs": [
    {
     "data": {
      "text/plain": [
       "array([[0., 0., 0., ..., 0., 0., 0.],\n",
       "       [0., 0., 0., ..., 0., 0., 0.],\n",
       "       [0., 0., 0., ..., 0., 0., 0.],\n",
       "       ...,\n",
       "       [0., 0., 0., ..., 0., 0., 0.],\n",
       "       [0., 0., 0., ..., 0., 0., 0.],\n",
       "       [0., 0., 0., ..., 0., 0., 0.]])"
      ]
     },
     "execution_count": 7,
     "metadata": {},
     "output_type": "execute_result"
    }
   ],
   "source": [
    "tfidf_matrix.toarray()"
   ]
  },
  {
   "cell_type": "code",
   "execution_count": 8,
   "id": "7636fb57",
   "metadata": {},
   "outputs": [],
   "source": [
    "cosine_sim = cosine_similarity(tfidf_matrix,tfidf_matrix)"
   ]
  },
  {
   "cell_type": "code",
   "execution_count": 9,
   "id": "77174636",
   "metadata": {},
   "outputs": [],
   "source": [
    "indices = pd.Series(df.index, index=df['title'])"
   ]
  },
  {
   "cell_type": "code",
   "execution_count": 10,
   "id": "0db52cf6",
   "metadata": {},
   "outputs": [],
   "source": [
    "indices.index.value_counts()\n",
    "indices = indices[~indices.index.duplicated(keep='last')]"
   ]
  },
  {
   "cell_type": "markdown",
   "id": "9ed45191",
   "metadata": {},
   "source": [
    "# Testing the simple model for recommendation :"
   ]
  },
  {
   "cell_type": "code",
   "execution_count": 21,
   "id": "a07224fb",
   "metadata": {},
   "outputs": [],
   "source": [
    "book_index = indices[\"Grand Theft Auto\"]"
   ]
  },
  {
   "cell_type": "code",
   "execution_count": 22,
   "id": "bd880e3a",
   "metadata": {},
   "outputs": [],
   "source": [
    "similarity_scores = pd.DataFrame(cosine_sim[book_index], columns=[\"score\"])"
   ]
  },
  {
   "cell_type": "code",
   "execution_count": 23,
   "id": "224505a4",
   "metadata": {},
   "outputs": [],
   "source": [
    "book_indices = similarity_scores.sort_values(\"score\", ascending=False)[1:6].index"
   ]
  },
  {
   "cell_type": "code",
   "execution_count": 24,
   "id": "8eef82b6",
   "metadata": {},
   "outputs": [
    {
     "data": {
      "text/html": [
       "<div>\n",
       "<style scoped>\n",
       "    .dataframe tbody tr th:only-of-type {\n",
       "        vertical-align: middle;\n",
       "    }\n",
       "\n",
       "    .dataframe tbody tr th {\n",
       "        vertical-align: top;\n",
       "    }\n",
       "\n",
       "    .dataframe thead th {\n",
       "        text-align: right;\n",
       "    }\n",
       "</style>\n",
       "<table border=\"1\" class=\"dataframe\">\n",
       "  <thead>\n",
       "    <tr style=\"text-align: right;\">\n",
       "      <th></th>\n",
       "      <th>title</th>\n",
       "      <th>categories</th>\n",
       "    </tr>\n",
       "  </thead>\n",
       "  <tbody>\n",
       "    <tr>\n",
       "      <th>4622</th>\n",
       "      <td>Star Wars</td>\n",
       "      <td>Juvenile Nonfiction</td>\n",
       "    </tr>\n",
       "    <tr>\n",
       "      <th>4623</th>\n",
       "      <td>You Can Draw Star Wars</td>\n",
       "      <td>Juvenile Nonfiction</td>\n",
       "    </tr>\n",
       "    <tr>\n",
       "      <th>4481</th>\n",
       "      <td>Castlevania</td>\n",
       "      <td>Games</td>\n",
       "    </tr>\n",
       "    <tr>\n",
       "      <th>6783</th>\n",
       "      <td>Basics Illustration 01</td>\n",
       "      <td>Art</td>\n",
       "    </tr>\n",
       "    <tr>\n",
       "      <th>6274</th>\n",
       "      <td>M is for Mayflower</td>\n",
       "      <td>Juvenile Nonfiction</td>\n",
       "    </tr>\n",
       "  </tbody>\n",
       "</table>\n",
       "</div>"
      ],
      "text/plain": [
       "                       title           categories\n",
       "4622               Star Wars  Juvenile Nonfiction\n",
       "4623  You Can Draw Star Wars  Juvenile Nonfiction\n",
       "4481             Castlevania                Games\n",
       "6783  Basics Illustration 01                  Art\n",
       "6274      M is for Mayflower  Juvenile Nonfiction"
      ]
     },
     "execution_count": 24,
     "metadata": {},
     "output_type": "execute_result"
    }
   ],
   "source": [
    "df[['title' , 'categories']].iloc[book_indices]"
   ]
  },
  {
   "cell_type": "code",
   "execution_count": 29,
   "id": "423792a2",
   "metadata": {},
   "outputs": [],
   "source": [
    "def content_based_recommender(title, cosine_sim, dataframe):\n",
    "    indices = pd.Series(dataframe.index, index=dataframe['title'])\n",
    "    indices = indices[~indices.index.duplicated(keep='last')]\n",
    "    book_index = indices[title]\n",
    "    similarity_scores = pd.DataFrame(cosine_sim[book_index], columns=[\"score\"])\n",
    "    book_indices = similarity_scores.sort_values(\"score\", ascending=False)[1:6].index\n",
    "    return dataframe[['title' , 'categories']].iloc[book_indices]"
   ]
  },
  {
   "cell_type": "code",
   "execution_count": 31,
   "id": "78ce3b0e",
   "metadata": {},
   "outputs": [
    {
     "data": {
      "text/html": [
       "<div>\n",
       "<style scoped>\n",
       "    .dataframe tbody tr th:only-of-type {\n",
       "        vertical-align: middle;\n",
       "    }\n",
       "\n",
       "    .dataframe tbody tr th {\n",
       "        vertical-align: top;\n",
       "    }\n",
       "\n",
       "    .dataframe thead th {\n",
       "        text-align: right;\n",
       "    }\n",
       "</style>\n",
       "<table border=\"1\" class=\"dataframe\">\n",
       "  <thead>\n",
       "    <tr style=\"text-align: right;\">\n",
       "      <th></th>\n",
       "      <th>title</th>\n",
       "      <th>categories</th>\n",
       "    </tr>\n",
       "  </thead>\n",
       "  <tbody>\n",
       "    <tr>\n",
       "      <th>3139</th>\n",
       "      <td>Color Drawing</td>\n",
       "      <td>Architecture</td>\n",
       "    </tr>\n",
       "    <tr>\n",
       "      <th>4476</th>\n",
       "      <td>Grand Theft Auto</td>\n",
       "      <td>Games &amp; Activities</td>\n",
       "    </tr>\n",
       "    <tr>\n",
       "      <th>213</th>\n",
       "      <td>The Doors of Perception and Heaven and Hell</td>\n",
       "      <td>Philosophy</td>\n",
       "    </tr>\n",
       "    <tr>\n",
       "      <th>2505</th>\n",
       "      <td>The Old Way of Seeing</td>\n",
       "      <td>Architecture</td>\n",
       "    </tr>\n",
       "    <tr>\n",
       "      <th>3739</th>\n",
       "      <td>The Lord of the Rings</td>\n",
       "      <td>Fiction</td>\n",
       "    </tr>\n",
       "  </tbody>\n",
       "</table>\n",
       "</div>"
      ],
      "text/plain": [
       "                                            title          categories\n",
       "3139                                Color Drawing        Architecture\n",
       "4476                             Grand Theft Auto  Games & Activities\n",
       "213   The Doors of Perception and Heaven and Hell          Philosophy\n",
       "2505                        The Old Way of Seeing        Architecture\n",
       "3739                        The Lord of the Rings             Fiction"
      ]
     },
     "execution_count": 31,
     "metadata": {},
     "output_type": "execute_result"
    }
   ],
   "source": [
    "content_based_recommender(\"Basics Illustration 01\", cosine_sim, df)"
   ]
  }
 ],
 "metadata": {
  "kernelspec": {
   "display_name": "Python 3 (ipykernel)",
   "language": "python",
   "name": "python3"
  },
  "language_info": {
   "codemirror_mode": {
    "name": "ipython",
    "version": 3
   },
   "file_extension": ".py",
   "mimetype": "text/x-python",
   "name": "python",
   "nbconvert_exporter": "python",
   "pygments_lexer": "ipython3",
   "version": "3.10.13"
  }
 },
 "nbformat": 4,
 "nbformat_minor": 5
}
