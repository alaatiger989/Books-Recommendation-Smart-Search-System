{
 "cells": [
  {
   "cell_type": "markdown",
   "id": "cfde1a58",
   "metadata": {},
   "source": [
    "# Importing packages"
   ]
  },
  {
   "cell_type": "code",
   "execution_count": 12,
   "id": "1be9d519",
   "metadata": {},
   "outputs": [],
   "source": [
    "import pandas as pd\n",
    "import numpy as np\n",
    "from sklearn.feature_extraction.text import TfidfVectorizer\n",
    "from sklearn.metrics.pairwise import cosine_similarity"
   ]
  },
  {
   "cell_type": "markdown",
   "id": "d87b05a9",
   "metadata": {},
   "source": [
    "# Reading our Dataset :"
   ]
  },
  {
   "cell_type": "code",
   "execution_count": 2,
   "id": "e9deb82f",
   "metadata": {},
   "outputs": [
    {
     "data": {
      "text/html": [
       "<div>\n",
       "<style scoped>\n",
       "    .dataframe tbody tr th:only-of-type {\n",
       "        vertical-align: middle;\n",
       "    }\n",
       "\n",
       "    .dataframe tbody tr th {\n",
       "        vertical-align: top;\n",
       "    }\n",
       "\n",
       "    .dataframe thead th {\n",
       "        text-align: right;\n",
       "    }\n",
       "</style>\n",
       "<table border=\"1\" class=\"dataframe\">\n",
       "  <thead>\n",
       "    <tr style=\"text-align: right;\">\n",
       "      <th></th>\n",
       "      <th>isbn13</th>\n",
       "      <th>isbn10</th>\n",
       "      <th>title</th>\n",
       "      <th>subtitle</th>\n",
       "      <th>authors</th>\n",
       "      <th>categories</th>\n",
       "      <th>thumbnail</th>\n",
       "      <th>description</th>\n",
       "      <th>published_year</th>\n",
       "      <th>average_rating</th>\n",
       "      <th>num_pages</th>\n",
       "      <th>ratings_count</th>\n",
       "    </tr>\n",
       "  </thead>\n",
       "  <tbody>\n",
       "    <tr>\n",
       "      <th>0</th>\n",
       "      <td>9780002005883</td>\n",
       "      <td>0002005883</td>\n",
       "      <td>Gilead</td>\n",
       "      <td>NaN</td>\n",
       "      <td>Marilynne Robinson</td>\n",
       "      <td>Fiction</td>\n",
       "      <td>http://books.google.com/books/content?id=KQZCP...</td>\n",
       "      <td>A NOVEL THAT READERS and critics have been eag...</td>\n",
       "      <td>2004.0</td>\n",
       "      <td>3.85</td>\n",
       "      <td>247.0</td>\n",
       "      <td>361.0</td>\n",
       "    </tr>\n",
       "    <tr>\n",
       "      <th>1</th>\n",
       "      <td>9780002261982</td>\n",
       "      <td>0002261987</td>\n",
       "      <td>Spider's Web</td>\n",
       "      <td>A Novel</td>\n",
       "      <td>Charles Osborne;Agatha Christie</td>\n",
       "      <td>Detective and mystery stories</td>\n",
       "      <td>http://books.google.com/books/content?id=gA5GP...</td>\n",
       "      <td>A new 'Christie for Christmas' -- a full-lengt...</td>\n",
       "      <td>2000.0</td>\n",
       "      <td>3.83</td>\n",
       "      <td>241.0</td>\n",
       "      <td>5164.0</td>\n",
       "    </tr>\n",
       "    <tr>\n",
       "      <th>2</th>\n",
       "      <td>9780006163831</td>\n",
       "      <td>0006163831</td>\n",
       "      <td>The One Tree</td>\n",
       "      <td>NaN</td>\n",
       "      <td>Stephen R. Donaldson</td>\n",
       "      <td>American fiction</td>\n",
       "      <td>http://books.google.com/books/content?id=OmQaw...</td>\n",
       "      <td>Volume Two of Stephen Donaldson's acclaimed se...</td>\n",
       "      <td>1982.0</td>\n",
       "      <td>3.97</td>\n",
       "      <td>479.0</td>\n",
       "      <td>172.0</td>\n",
       "    </tr>\n",
       "    <tr>\n",
       "      <th>3</th>\n",
       "      <td>9780006178736</td>\n",
       "      <td>0006178731</td>\n",
       "      <td>Rage of angels</td>\n",
       "      <td>NaN</td>\n",
       "      <td>Sidney Sheldon</td>\n",
       "      <td>Fiction</td>\n",
       "      <td>http://books.google.com/books/content?id=FKo2T...</td>\n",
       "      <td>A memorable, mesmerizing heroine Jennifer -- b...</td>\n",
       "      <td>1993.0</td>\n",
       "      <td>3.93</td>\n",
       "      <td>512.0</td>\n",
       "      <td>29532.0</td>\n",
       "    </tr>\n",
       "    <tr>\n",
       "      <th>4</th>\n",
       "      <td>9780006280897</td>\n",
       "      <td>0006280897</td>\n",
       "      <td>The Four Loves</td>\n",
       "      <td>NaN</td>\n",
       "      <td>Clive Staples Lewis</td>\n",
       "      <td>Christian life</td>\n",
       "      <td>http://books.google.com/books/content?id=XhQ5X...</td>\n",
       "      <td>Lewis' work on the nature of love divides love...</td>\n",
       "      <td>2002.0</td>\n",
       "      <td>4.15</td>\n",
       "      <td>170.0</td>\n",
       "      <td>33684.0</td>\n",
       "    </tr>\n",
       "  </tbody>\n",
       "</table>\n",
       "</div>"
      ],
      "text/plain": [
       "          isbn13      isbn10           title subtitle  \\\n",
       "0  9780002005883  0002005883          Gilead      NaN   \n",
       "1  9780002261982  0002261987    Spider's Web  A Novel   \n",
       "2  9780006163831  0006163831    The One Tree      NaN   \n",
       "3  9780006178736  0006178731  Rage of angels      NaN   \n",
       "4  9780006280897  0006280897  The Four Loves      NaN   \n",
       "\n",
       "                           authors                     categories  \\\n",
       "0               Marilynne Robinson                        Fiction   \n",
       "1  Charles Osborne;Agatha Christie  Detective and mystery stories   \n",
       "2             Stephen R. Donaldson               American fiction   \n",
       "3                   Sidney Sheldon                        Fiction   \n",
       "4              Clive Staples Lewis                 Christian life   \n",
       "\n",
       "                                           thumbnail  \\\n",
       "0  http://books.google.com/books/content?id=KQZCP...   \n",
       "1  http://books.google.com/books/content?id=gA5GP...   \n",
       "2  http://books.google.com/books/content?id=OmQaw...   \n",
       "3  http://books.google.com/books/content?id=FKo2T...   \n",
       "4  http://books.google.com/books/content?id=XhQ5X...   \n",
       "\n",
       "                                         description  published_year  \\\n",
       "0  A NOVEL THAT READERS and critics have been eag...          2004.0   \n",
       "1  A new 'Christie for Christmas' -- a full-lengt...          2000.0   \n",
       "2  Volume Two of Stephen Donaldson's acclaimed se...          1982.0   \n",
       "3  A memorable, mesmerizing heroine Jennifer -- b...          1993.0   \n",
       "4  Lewis' work on the nature of love divides love...          2002.0   \n",
       "\n",
       "   average_rating  num_pages  ratings_count  \n",
       "0            3.85      247.0          361.0  \n",
       "1            3.83      241.0         5164.0  \n",
       "2            3.97      479.0          172.0  \n",
       "3            3.93      512.0        29532.0  \n",
       "4            4.15      170.0        33684.0  "
      ]
     },
     "execution_count": 2,
     "metadata": {},
     "output_type": "execute_result"
    }
   ],
   "source": [
    "df = pd.read_csv('books.csv')\n",
    "df.head()"
   ]
  },
  {
   "cell_type": "markdown",
   "id": "124ed2f2",
   "metadata": {},
   "source": [
    "Delete First Two Columns : "
   ]
  },
  {
   "cell_type": "code",
   "execution_count": 3,
   "id": "ad3c06b1",
   "metadata": {},
   "outputs": [],
   "source": [
    "df.drop(\"isbn13\" , inplace = True , axis = 1)"
   ]
  },
  {
   "cell_type": "code",
   "execution_count": 4,
   "id": "1434cdc1",
   "metadata": {},
   "outputs": [],
   "source": [
    "df.drop(\"isbn10\" , inplace = True , axis = 1)"
   ]
  },
  {
   "cell_type": "code",
   "execution_count": 5,
   "id": "01c4394a",
   "metadata": {},
   "outputs": [
    {
     "data": {
      "text/html": [
       "<div>\n",
       "<style scoped>\n",
       "    .dataframe tbody tr th:only-of-type {\n",
       "        vertical-align: middle;\n",
       "    }\n",
       "\n",
       "    .dataframe tbody tr th {\n",
       "        vertical-align: top;\n",
       "    }\n",
       "\n",
       "    .dataframe thead th {\n",
       "        text-align: right;\n",
       "    }\n",
       "</style>\n",
       "<table border=\"1\" class=\"dataframe\">\n",
       "  <thead>\n",
       "    <tr style=\"text-align: right;\">\n",
       "      <th></th>\n",
       "      <th>title</th>\n",
       "      <th>subtitle</th>\n",
       "      <th>authors</th>\n",
       "      <th>categories</th>\n",
       "      <th>thumbnail</th>\n",
       "      <th>description</th>\n",
       "      <th>published_year</th>\n",
       "      <th>average_rating</th>\n",
       "      <th>num_pages</th>\n",
       "      <th>ratings_count</th>\n",
       "    </tr>\n",
       "  </thead>\n",
       "  <tbody>\n",
       "    <tr>\n",
       "      <th>0</th>\n",
       "      <td>Gilead</td>\n",
       "      <td>NaN</td>\n",
       "      <td>Marilynne Robinson</td>\n",
       "      <td>Fiction</td>\n",
       "      <td>http://books.google.com/books/content?id=KQZCP...</td>\n",
       "      <td>A NOVEL THAT READERS and critics have been eag...</td>\n",
       "      <td>2004.0</td>\n",
       "      <td>3.85</td>\n",
       "      <td>247.0</td>\n",
       "      <td>361.0</td>\n",
       "    </tr>\n",
       "    <tr>\n",
       "      <th>1</th>\n",
       "      <td>Spider's Web</td>\n",
       "      <td>A Novel</td>\n",
       "      <td>Charles Osborne;Agatha Christie</td>\n",
       "      <td>Detective and mystery stories</td>\n",
       "      <td>http://books.google.com/books/content?id=gA5GP...</td>\n",
       "      <td>A new 'Christie for Christmas' -- a full-lengt...</td>\n",
       "      <td>2000.0</td>\n",
       "      <td>3.83</td>\n",
       "      <td>241.0</td>\n",
       "      <td>5164.0</td>\n",
       "    </tr>\n",
       "    <tr>\n",
       "      <th>2</th>\n",
       "      <td>The One Tree</td>\n",
       "      <td>NaN</td>\n",
       "      <td>Stephen R. Donaldson</td>\n",
       "      <td>American fiction</td>\n",
       "      <td>http://books.google.com/books/content?id=OmQaw...</td>\n",
       "      <td>Volume Two of Stephen Donaldson's acclaimed se...</td>\n",
       "      <td>1982.0</td>\n",
       "      <td>3.97</td>\n",
       "      <td>479.0</td>\n",
       "      <td>172.0</td>\n",
       "    </tr>\n",
       "    <tr>\n",
       "      <th>3</th>\n",
       "      <td>Rage of angels</td>\n",
       "      <td>NaN</td>\n",
       "      <td>Sidney Sheldon</td>\n",
       "      <td>Fiction</td>\n",
       "      <td>http://books.google.com/books/content?id=FKo2T...</td>\n",
       "      <td>A memorable, mesmerizing heroine Jennifer -- b...</td>\n",
       "      <td>1993.0</td>\n",
       "      <td>3.93</td>\n",
       "      <td>512.0</td>\n",
       "      <td>29532.0</td>\n",
       "    </tr>\n",
       "    <tr>\n",
       "      <th>4</th>\n",
       "      <td>The Four Loves</td>\n",
       "      <td>NaN</td>\n",
       "      <td>Clive Staples Lewis</td>\n",
       "      <td>Christian life</td>\n",
       "      <td>http://books.google.com/books/content?id=XhQ5X...</td>\n",
       "      <td>Lewis' work on the nature of love divides love...</td>\n",
       "      <td>2002.0</td>\n",
       "      <td>4.15</td>\n",
       "      <td>170.0</td>\n",
       "      <td>33684.0</td>\n",
       "    </tr>\n",
       "  </tbody>\n",
       "</table>\n",
       "</div>"
      ],
      "text/plain": [
       "            title subtitle                          authors  \\\n",
       "0          Gilead      NaN               Marilynne Robinson   \n",
       "1    Spider's Web  A Novel  Charles Osborne;Agatha Christie   \n",
       "2    The One Tree      NaN             Stephen R. Donaldson   \n",
       "3  Rage of angels      NaN                   Sidney Sheldon   \n",
       "4  The Four Loves      NaN              Clive Staples Lewis   \n",
       "\n",
       "                      categories  \\\n",
       "0                        Fiction   \n",
       "1  Detective and mystery stories   \n",
       "2               American fiction   \n",
       "3                        Fiction   \n",
       "4                 Christian life   \n",
       "\n",
       "                                           thumbnail  \\\n",
       "0  http://books.google.com/books/content?id=KQZCP...   \n",
       "1  http://books.google.com/books/content?id=gA5GP...   \n",
       "2  http://books.google.com/books/content?id=OmQaw...   \n",
       "3  http://books.google.com/books/content?id=FKo2T...   \n",
       "4  http://books.google.com/books/content?id=XhQ5X...   \n",
       "\n",
       "                                         description  published_year  \\\n",
       "0  A NOVEL THAT READERS and critics have been eag...          2004.0   \n",
       "1  A new 'Christie for Christmas' -- a full-lengt...          2000.0   \n",
       "2  Volume Two of Stephen Donaldson's acclaimed se...          1982.0   \n",
       "3  A memorable, mesmerizing heroine Jennifer -- b...          1993.0   \n",
       "4  Lewis' work on the nature of love divides love...          2002.0   \n",
       "\n",
       "   average_rating  num_pages  ratings_count  \n",
       "0            3.85      247.0          361.0  \n",
       "1            3.83      241.0         5164.0  \n",
       "2            3.97      479.0          172.0  \n",
       "3            3.93      512.0        29532.0  \n",
       "4            4.15      170.0        33684.0  "
      ]
     },
     "execution_count": 5,
     "metadata": {},
     "output_type": "execute_result"
    }
   ],
   "source": [
    "df.head()"
   ]
  },
  {
   "cell_type": "markdown",
   "id": "28cda3c0",
   "metadata": {},
   "source": [
    "# Calculate missing values in each Feature :"
   ]
  },
  {
   "cell_type": "code",
   "execution_count": 6,
   "id": "15bb4ec0",
   "metadata": {},
   "outputs": [],
   "source": [
    "missing_data = df.isnull()"
   ]
  },
  {
   "cell_type": "markdown",
   "id": "231d8350",
   "metadata": {},
   "source": [
    "# Get Summary of missing values in each feature :"
   ]
  },
  {
   "cell_type": "code",
   "execution_count": 8,
   "id": "0bee636b",
   "metadata": {},
   "outputs": [
    {
     "name": "stdout",
     "output_type": "stream",
     "text": [
      "title\n",
      "False    6810\n",
      "Name: count, dtype: int64\n",
      " \n",
      "subtitle\n",
      "True     4429\n",
      "False    2381\n",
      "Name: count, dtype: int64\n",
      " \n",
      "authors\n",
      "False    6738\n",
      "True       72\n",
      "Name: count, dtype: int64\n",
      " \n",
      "categories\n",
      "False    6711\n",
      "True       99\n",
      "Name: count, dtype: int64\n",
      " \n",
      "thumbnail\n",
      "False    6481\n",
      "True      329\n",
      "Name: count, dtype: int64\n",
      " \n",
      "description\n",
      "False    6548\n",
      "True      262\n",
      "Name: count, dtype: int64\n",
      " \n",
      "published_year\n",
      "False    6804\n",
      "True        6\n",
      "Name: count, dtype: int64\n",
      " \n",
      "average_rating\n",
      "False    6767\n",
      "True       43\n",
      "Name: count, dtype: int64\n",
      " \n",
      "num_pages\n",
      "False    6767\n",
      "True       43\n",
      "Name: count, dtype: int64\n",
      " \n",
      "ratings_count\n",
      "False    6767\n",
      "True       43\n",
      "Name: count, dtype: int64\n",
      " \n"
     ]
    }
   ],
   "source": [
    "for column in missing_data.columns.values.tolist():\n",
    "    print(missing_data[column].value_counts())\n",
    "    print(\" \")"
   ]
  },
  {
   "cell_type": "markdown",
   "id": "5cc170a3",
   "metadata": {},
   "source": [
    "# Data Wrangling :"
   ]
  },
  {
   "cell_type": "markdown",
   "id": "75ec5d51",
   "metadata": {},
   "source": [
    "Replacing missing values in 'subtitle' column with Frequency"
   ]
  },
  {
   "cell_type": "code",
   "execution_count": 31,
   "id": "8980186a",
   "metadata": {},
   "outputs": [],
   "source": [
    "df['subtitle'].replace(np.nan , df['subtitle'].value_counts().idxmax() , inplace = True)"
   ]
  },
  {
   "cell_type": "markdown",
   "id": "298e6a8e",
   "metadata": {},
   "source": [
    "Replacing missing values in 'description' column with 'No Description for that book'"
   ]
  },
  {
   "cell_type": "code",
   "execution_count": 9,
   "id": "40768cab",
   "metadata": {},
   "outputs": [],
   "source": [
    "df['description'] = df['description'].fillna(\"No Description For that book\")"
   ]
  },
  {
   "cell_type": "markdown",
   "id": "d5dfea54",
   "metadata": {},
   "source": [
    "Replacing missing values in 'author' column with 'No Author for that book'"
   ]
  },
  {
   "cell_type": "code",
   "execution_count": 10,
   "id": "9e5f0939",
   "metadata": {},
   "outputs": [],
   "source": [
    "df['authors'] = df['authors'].fillna('No Author for that book')"
   ]
  },
  {
   "cell_type": "markdown",
   "id": "cadace12",
   "metadata": {},
   "source": [
    "Replacing missing values in 'categories' column with its most frequency"
   ]
  },
  {
   "cell_type": "code",
   "execution_count": 13,
   "id": "d4ee52d1",
   "metadata": {},
   "outputs": [],
   "source": [
    "df['categories'].replace(np.nan , df['categories'].value_counts().idxmax() , inplace = True)"
   ]
  },
  {
   "cell_type": "markdown",
   "id": "e6c40623",
   "metadata": {},
   "source": [
    "Drop 'thumbnail' column :"
   ]
  },
  {
   "cell_type": "code",
   "execution_count": 14,
   "id": "c0d424ac",
   "metadata": {},
   "outputs": [],
   "source": [
    "df.drop(\"thumbnail\" , inplace = True , axis = 1)"
   ]
  },
  {
   "cell_type": "markdown",
   "id": "82a0713f",
   "metadata": {},
   "source": [
    "Replacing 'published_year' column with its most frequency :"
   ]
  },
  {
   "cell_type": "code",
   "execution_count": 16,
   "id": "d5621540",
   "metadata": {},
   "outputs": [],
   "source": [
    "df['published_year'].replace(np.nan , df['published_year'].value_counts().idxmax() , inplace = True)"
   ]
  },
  {
   "cell_type": "markdown",
   "id": "a4ea6847",
   "metadata": {},
   "source": [
    "Replace 'average_rating' column with its mean() :"
   ]
  },
  {
   "cell_type": "code",
   "execution_count": 17,
   "id": "24393fc1",
   "metadata": {},
   "outputs": [
    {
     "name": "stdout",
     "output_type": "stream",
     "text": [
      "The average rating mean =  3.933283582089552\n"
     ]
    }
   ],
   "source": [
    "average_rating_mean = df['average_rating'].astype(float).mean(axis = 0)\n",
    "print(\"The average rating mean = \", average_rating_mean)"
   ]
  },
  {
   "cell_type": "code",
   "execution_count": 20,
   "id": "72e209d6",
   "metadata": {},
   "outputs": [],
   "source": [
    "df['average_rating'].replace(np.nan , average_rating_mean , inplace = True)"
   ]
  },
  {
   "cell_type": "markdown",
   "id": "48ac1a81",
   "metadata": {},
   "source": [
    "Replacing 'num_pages' column with its mean() :"
   ]
  },
  {
   "cell_type": "code",
   "execution_count": 24,
   "id": "48fc40c7",
   "metadata": {},
   "outputs": [
    {
     "name": "stdout",
     "output_type": "stream",
     "text": [
      "The number of pages mean =  348.1810255652431\n"
     ]
    }
   ],
   "source": [
    "num_pages_mean = df['num_pages'].astype(float).mean(axis = 0)\n",
    "print(\"The number of pages mean = \", num_pages_mean)"
   ]
  },
  {
   "cell_type": "code",
   "execution_count": 25,
   "id": "5344072f",
   "metadata": {},
   "outputs": [
    {
     "data": {
      "text/plain": [
       "348"
      ]
     },
     "execution_count": 25,
     "metadata": {},
     "output_type": "execute_result"
    }
   ],
   "source": [
    "num_pages_mean.astype(int)"
   ]
  },
  {
   "cell_type": "code",
   "execution_count": 26,
   "id": "d51f6790",
   "metadata": {},
   "outputs": [],
   "source": [
    "df['num_pages'].replace(np.nan , num_pages_mean , inplace = True)"
   ]
  },
  {
   "cell_type": "markdown",
   "id": "1e66ed48",
   "metadata": {},
   "source": [
    "Replacing 'ratings_count' with its mean () :"
   ]
  },
  {
   "cell_type": "code",
   "execution_count": 27,
   "id": "2a1894d4",
   "metadata": {},
   "outputs": [
    {
     "name": "stdout",
     "output_type": "stream",
     "text": [
      "The Ratings count mean =  21069.09989655682\n"
     ]
    }
   ],
   "source": [
    "ratings_count_mean = df['ratings_count'].astype(float).mean(axis = 0)\n",
    "print(\"The Ratings count mean = \", ratings_count_mean)"
   ]
  },
  {
   "cell_type": "code",
   "execution_count": 28,
   "id": "bd680fb6",
   "metadata": {},
   "outputs": [
    {
     "data": {
      "text/plain": [
       "21069"
      ]
     },
     "execution_count": 28,
     "metadata": {},
     "output_type": "execute_result"
    }
   ],
   "source": [
    "ratings_count_mean.astype(int)"
   ]
  },
  {
   "cell_type": "code",
   "execution_count": 29,
   "id": "087d097e",
   "metadata": {},
   "outputs": [],
   "source": [
    "df['ratings_count'].replace(np.nan , ratings_count_mean , inplace = True)"
   ]
  },
  {
   "cell_type": "markdown",
   "id": "95ee6b8e",
   "metadata": {},
   "source": [
    "# Checking the missing values again : "
   ]
  },
  {
   "cell_type": "code",
   "execution_count": 34,
   "id": "49b407e5",
   "metadata": {},
   "outputs": [
    {
     "name": "stdout",
     "output_type": "stream",
     "text": [
      "title\n",
      "False    6810\n",
      "Name: count, dtype: int64\n",
      " \n",
      "subtitle\n",
      "False    6810\n",
      "Name: count, dtype: int64\n",
      " \n",
      "authors\n",
      "False    6810\n",
      "Name: count, dtype: int64\n",
      " \n",
      "categories\n",
      "False    6810\n",
      "Name: count, dtype: int64\n",
      " \n",
      "description\n",
      "False    6810\n",
      "Name: count, dtype: int64\n",
      " \n",
      "published_year\n",
      "False    6810\n",
      "Name: count, dtype: int64\n",
      " \n",
      "average_rating\n",
      "False    6810\n",
      "Name: count, dtype: int64\n",
      " \n",
      "num_pages\n",
      "False    6810\n",
      "Name: count, dtype: int64\n",
      " \n",
      "ratings_count\n",
      "False    6810\n",
      "Name: count, dtype: int64\n",
      " \n"
     ]
    }
   ],
   "source": [
    "missing_data = df.isnull()\n",
    "for column in missing_data.columns.values.tolist():\n",
    "    print(missing_data[column].value_counts())\n",
    "    print(\" \")"
   ]
  },
  {
   "cell_type": "markdown",
   "id": "aed2a2d2",
   "metadata": {},
   "source": [
    "# Getting info about our Dataset :"
   ]
  },
  {
   "cell_type": "code",
   "execution_count": 33,
   "id": "9c7f71c1",
   "metadata": {},
   "outputs": [
    {
     "name": "stdout",
     "output_type": "stream",
     "text": [
      "<class 'pandas.core.frame.DataFrame'>\n",
      "RangeIndex: 6810 entries, 0 to 6809\n",
      "Data columns (total 9 columns):\n",
      " #   Column          Non-Null Count  Dtype  \n",
      "---  ------          --------------  -----  \n",
      " 0   title           6810 non-null   object \n",
      " 1   subtitle        6810 non-null   object \n",
      " 2   authors         6810 non-null   object \n",
      " 3   categories      6810 non-null   object \n",
      " 4   description     6810 non-null   object \n",
      " 5   published_year  6810 non-null   float64\n",
      " 6   average_rating  6810 non-null   float64\n",
      " 7   num_pages       6810 non-null   float64\n",
      " 8   ratings_count   6810 non-null   float64\n",
      "dtypes: float64(4), object(5)\n",
      "memory usage: 479.0+ KB\n"
     ]
    }
   ],
   "source": [
    "df.info()"
   ]
  },
  {
   "cell_type": "code",
   "execution_count": 41,
   "id": "d2f9bf72",
   "metadata": {},
   "outputs": [
    {
     "data": {
      "text/html": [
       "<div>\n",
       "<style scoped>\n",
       "    .dataframe tbody tr th:only-of-type {\n",
       "        vertical-align: middle;\n",
       "    }\n",
       "\n",
       "    .dataframe tbody tr th {\n",
       "        vertical-align: top;\n",
       "    }\n",
       "\n",
       "    .dataframe thead th {\n",
       "        text-align: right;\n",
       "    }\n",
       "</style>\n",
       "<table border=\"1\" class=\"dataframe\">\n",
       "  <thead>\n",
       "    <tr style=\"text-align: right;\">\n",
       "      <th></th>\n",
       "      <th>title</th>\n",
       "      <th>subtitle</th>\n",
       "      <th>authors</th>\n",
       "      <th>categories</th>\n",
       "      <th>description</th>\n",
       "      <th>published_year</th>\n",
       "      <th>average_rating</th>\n",
       "      <th>num_pages</th>\n",
       "      <th>ratings_count</th>\n",
       "    </tr>\n",
       "  </thead>\n",
       "  <tbody>\n",
       "    <tr>\n",
       "      <th>0</th>\n",
       "      <td>Gilead</td>\n",
       "      <td>A Novel</td>\n",
       "      <td>Marilynne Robinson</td>\n",
       "      <td>Fiction</td>\n",
       "      <td>A NOVEL THAT READERS and critics have been eag...</td>\n",
       "      <td>2004.0</td>\n",
       "      <td>3.85</td>\n",
       "      <td>247.0</td>\n",
       "      <td>361.0</td>\n",
       "    </tr>\n",
       "    <tr>\n",
       "      <th>1</th>\n",
       "      <td>Spider's Web</td>\n",
       "      <td>A Novel</td>\n",
       "      <td>Charles Osborne;Agatha Christie</td>\n",
       "      <td>Detective and mystery stories</td>\n",
       "      <td>A new 'Christie for Christmas' -- a full-lengt...</td>\n",
       "      <td>2000.0</td>\n",
       "      <td>3.83</td>\n",
       "      <td>241.0</td>\n",
       "      <td>5164.0</td>\n",
       "    </tr>\n",
       "    <tr>\n",
       "      <th>2</th>\n",
       "      <td>The One Tree</td>\n",
       "      <td>A Novel</td>\n",
       "      <td>Stephen R. Donaldson</td>\n",
       "      <td>American fiction</td>\n",
       "      <td>Volume Two of Stephen Donaldson's acclaimed se...</td>\n",
       "      <td>1982.0</td>\n",
       "      <td>3.97</td>\n",
       "      <td>479.0</td>\n",
       "      <td>172.0</td>\n",
       "    </tr>\n",
       "    <tr>\n",
       "      <th>3</th>\n",
       "      <td>Rage of angels</td>\n",
       "      <td>A Novel</td>\n",
       "      <td>Sidney Sheldon</td>\n",
       "      <td>Fiction</td>\n",
       "      <td>A memorable, mesmerizing heroine Jennifer -- b...</td>\n",
       "      <td>1993.0</td>\n",
       "      <td>3.93</td>\n",
       "      <td>512.0</td>\n",
       "      <td>29532.0</td>\n",
       "    </tr>\n",
       "    <tr>\n",
       "      <th>4</th>\n",
       "      <td>The Four Loves</td>\n",
       "      <td>A Novel</td>\n",
       "      <td>Clive Staples Lewis</td>\n",
       "      <td>Christian life</td>\n",
       "      <td>Lewis' work on the nature of love divides love...</td>\n",
       "      <td>2002.0</td>\n",
       "      <td>4.15</td>\n",
       "      <td>170.0</td>\n",
       "      <td>33684.0</td>\n",
       "    </tr>\n",
       "  </tbody>\n",
       "</table>\n",
       "</div>"
      ],
      "text/plain": [
       "            title subtitle                          authors  \\\n",
       "0          Gilead  A Novel               Marilynne Robinson   \n",
       "1    Spider's Web  A Novel  Charles Osborne;Agatha Christie   \n",
       "2    The One Tree  A Novel             Stephen R. Donaldson   \n",
       "3  Rage of angels  A Novel                   Sidney Sheldon   \n",
       "4  The Four Loves  A Novel              Clive Staples Lewis   \n",
       "\n",
       "                      categories  \\\n",
       "0                        Fiction   \n",
       "1  Detective and mystery stories   \n",
       "2               American fiction   \n",
       "3                        Fiction   \n",
       "4                 Christian life   \n",
       "\n",
       "                                         description  published_year  \\\n",
       "0  A NOVEL THAT READERS and critics have been eag...          2004.0   \n",
       "1  A new 'Christie for Christmas' -- a full-lengt...          2000.0   \n",
       "2  Volume Two of Stephen Donaldson's acclaimed se...          1982.0   \n",
       "3  A memorable, mesmerizing heroine Jennifer -- b...          1993.0   \n",
       "4  Lewis' work on the nature of love divides love...          2002.0   \n",
       "\n",
       "   average_rating  num_pages  ratings_count  \n",
       "0            3.85      247.0          361.0  \n",
       "1            3.83      241.0         5164.0  \n",
       "2            3.97      479.0          172.0  \n",
       "3            3.93      512.0        29532.0  \n",
       "4            4.15      170.0        33684.0  "
      ]
     },
     "execution_count": 41,
     "metadata": {},
     "output_type": "execute_result"
    }
   ],
   "source": [
    "df.head()"
   ]
  },
  {
   "cell_type": "markdown",
   "id": "be3a5b70",
   "metadata": {},
   "source": [
    "# Saving Cleaned Dataset :"
   ]
  },
  {
   "cell_type": "code",
   "execution_count": 42,
   "id": "0c02eb76",
   "metadata": {},
   "outputs": [],
   "source": [
    "df.to_csv('cleaned_dataset.csv')"
   ]
  }
 ],
 "metadata": {
  "kernelspec": {
   "display_name": "Python 3 (ipykernel)",
   "language": "python",
   "name": "python3"
  },
  "language_info": {
   "codemirror_mode": {
    "name": "ipython",
    "version": 3
   },
   "file_extension": ".py",
   "mimetype": "text/x-python",
   "name": "python",
   "nbconvert_exporter": "python",
   "pygments_lexer": "ipython3",
   "version": "3.10.13"
  }
 },
 "nbformat": 4,
 "nbformat_minor": 5
}
